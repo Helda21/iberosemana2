{
 "cells": [
  {
   "cell_type": "code",
   "execution_count": 5,
   "metadata": {},
   "outputs": [],
   "source": [
    "#Creamos una base de conocimiento sobre el transporte:\n",
    "\n",
    "base_conocimientoTransmilenio = {\n",
    "    'Madelena': {'Venecia':5, 'Alqueria':10},\n",
    "    'Venecia':{'Madelena':5, 'Ricaurte':3},\n",
    "    'Alqueria':{'Madelena':10,'Ricaurte':7},\n",
    "    'Ricaurte':{'Venecia':3,'Alqueria':7,'Paloquemao':2},\n",
    "    'Paloquemao':{'Ricaurte':2}\n",
    "}"
   ]
  },
  {
   "cell_type": "code",
   "execution_count": 2,
   "metadata": {},
   "outputs": [],
   "source": [
    "#parametros voy desde tal punto hasta tal punto en este caso madelena hasta paloquemao\n",
    "inicio = 'Madelena'\n",
    "objetivo = 'Paloquemao'"
   ]
  },
  {
   "cell_type": "code",
   "execution_count": 4,
   "metadata": {},
   "outputs": [
    {
     "name": "stdout",
     "output_type": "stream",
     "text": [
      "La ruta óptima es: ['Madelena', 'Venecia', 'Ricaurte', 'Paloquemao']\n"
     ]
    }
   ],
   "source": [
    "#importamos collections y deque\n",
    "from collections import deque\n",
    "\n",
    "def bfs(base_conocimientoTransmilenio,inicio,Objetivo):\n",
    "    visitados = set()\n",
    "    cola = deque([(inicio,[inicio])])\n",
    "\n",
    "\n",
    "    while cola:\n",
    "        (estacion,ruta) = cola.popleft()\n",
    "        if estacion == Objetivo:\n",
    "            return ruta\n",
    "        if estacion not in visitados:\n",
    "            visitados.add(estacion)\n",
    "            for vecino, _ in base_conocimientoTransmilenio.get(estacion,{}).items():\n",
    "                nueva_ruta = list(ruta)\n",
    "                nueva_ruta.append(vecino)\n",
    "                cola.append((vecino,nueva_ruta))\n",
    "\n",
    "\n",
    "\n",
    "ruta_optima = bfs(base_conocimientoTransmilenio, inicio, objetivo)\n",
    "print(\"La ruta óptima es:\", ruta_optima)"
   ]
  }
 ],
 "metadata": {
  "kernelspec": {
   "display_name": "Python 3",
   "language": "python",
   "name": "python3"
  },
  "language_info": {
   "codemirror_mode": {
    "name": "ipython",
    "version": 3
   },
   "file_extension": ".py",
   "mimetype": "text/x-python",
   "name": "python",
   "nbconvert_exporter": "python",
   "pygments_lexer": "ipython3",
   "version": "3.11.2"
  }
 },
 "nbformat": 4,
 "nbformat_minor": 2
}
